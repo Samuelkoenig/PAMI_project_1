{
 "cells": [
  {
   "cell_type": "markdown",
   "metadata": {},
   "source": [
    "**Imports**"
   ]
  },
  {
   "cell_type": "code",
   "execution_count": 1,
   "metadata": {},
   "outputs": [],
   "source": [
    "# Imports:\n",
    "import cv2\n",
    "import numpy as np\n",
    "import pandas as pd\n",
    "import matplotlib.pyplot as plt\n"
   ]
  },
  {
   "cell_type": "markdown",
   "metadata": {},
   "source": [
    "**Polygon creation:**"
   ]
  },
  {
   "cell_type": "code",
   "execution_count": null,
   "metadata": {},
   "outputs": [],
   "source": [
    "class PolygonCreator:\n",
    "\n",
    "    def __init__(self):\n",
    "        \"\"\"\n",
    "        Constructor of the PolygonCreator class.\n",
    "        \"\"\"\n",
    "        pass\n",
    "\n",
    "    def read_in_image(self, file):\n",
    "        \"\"\"\n",
    "        Reads in a single image.\n",
    "        \"\"\"\n",
    "        pass\n",
    "\n",
    "    def create_polygons(self, image):\n",
    "        \"\"\"\n",
    "        Extracts the polygons for an image.\n",
    "        \"\"\"\n",
    "        pass\n",
    "\n",
    "    def create_polygon_sample(self, path):\n",
    "        \"\"\"\n",
    "        Creates a sample with all polygons and corresponding labels.\n",
    "        \"\"\"\n",
    "        pass\n"
   ]
  },
  {
   "cell_type": "markdown",
   "metadata": {},
   "source": [
    "**Rust detection features:**"
   ]
  },
  {
   "cell_type": "code",
   "execution_count": null,
   "metadata": {},
   "outputs": [],
   "source": [
    "class RustDetection:\n",
    "\n",
    "    def __init__(self):\n",
    "        \"\"\"\n",
    "        Constructor of the RustDetection class.\n",
    "        \"\"\"\n",
    "        pass\n",
    "\n",
    "    def red_color_filter(self, image):\n",
    "        \"\"\"\n",
    "        Creates a filtered version of the image highlighting red colors.\"\"\"\n",
    "        pass\n",
    "    \n",
    "    def red_color_feature(self, image, polygon):\n",
    "        \"\"\"\n",
    "        Extract the red color feature value for a polygon.\n",
    "        \"\"\"\n",
    "        pass\n",
    "\n",
    "    def rough_texture_filter(self, image):\n",
    "        \"\"\"\n",
    "        Creates a filtered version of the image highlighting different textures.\n",
    "        \"\"\"\n",
    "        pass\n",
    "\n",
    "    def rough_texture_feature(self, image, polygon):\n",
    "        \"\"\"\n",
    "        Extract the texture value for a polygon.\n",
    "        \"\"\"\n",
    "        pass\n",
    "\n",
    "    def image_feature_generator(self, image, polygon):\n",
    "        \"\"\"\n",
    "        Generates the features for a polygon.\n",
    "        \"\"\"\n",
    "        pass\n",
    "\n",
    "    def sample_generator(self):\n",
    "        \"\"\"\n",
    "        Generates a sample with feature values and labels.\n",
    "        \"\"\"\n",
    "        pass"
   ]
  }
 ],
 "metadata": {
  "kernelspec": {
   "display_name": "Python 3",
   "language": "python",
   "name": "python3"
  },
  "language_info": {
   "codemirror_mode": {
    "name": "ipython",
    "version": 3
   },
   "file_extension": ".py",
   "mimetype": "text/x-python",
   "name": "python",
   "nbconvert_exporter": "python",
   "pygments_lexer": "ipython3",
   "version": "3.12.2"
  }
 },
 "nbformat": 4,
 "nbformat_minor": 2
}
