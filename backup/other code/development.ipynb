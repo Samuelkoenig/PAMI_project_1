{
 "cells": [
  {
   "cell_type": "code",
   "execution_count": null,
   "metadata": {},
   "outputs": [],
   "source": [
    "def find_darker_areas(image, threshold=100):\n",
    "    # Convert image to grayscale:\n",
    "    grey_image = cv2.cvtColor(image, cv2.COLOR_BGR2GRAY)\n",
    "    # Find dark areas:\n",
    "    dark_areas = grey_image < threshold\n",
    "    dark_areas = dark_areas.astype(np.uint8)\n",
    "    blurred = cv2.blur(dark_areas, (15, 15), 0)\n",
    "    contours, _ = cv2.findContours(blurred, cv2.RETR_EXTERNAL, cv2.CHAIN_APPROX_SIMPLE)\n",
    "    polygons = []\n",
    "    for contour in contours:\n",
    "        points = []\n",
    "        for point in contour:\n",
    "            points.append(point)\n",
    "        polygons.append(points)\n",
    "\n",
    "    return dark_areas, polygons\n",
    "\n",
    "dark_areas, polygons = find_darker_areas(image_copy, threshold=100)\n",
    "\n",
    "plt.imshow(dark_areas)\n",
    "print(len(polygons))\n",
    "print(polygons)"
   ]
  }
 ],
 "metadata": {
  "language_info": {
   "name": "python"
  }
 },
 "nbformat": 4,
 "nbformat_minor": 2
}
