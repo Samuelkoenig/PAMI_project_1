{
 "cells": [
  {
   "cell_type": "markdown",
   "metadata": {},
   "source": [
    "## Main Program for classification"
   ]
  },
  {
   "cell_type": "markdown",
   "metadata": {},
   "source": [
    "# imports"
   ]
  },
  {
   "cell_type": "code",
   "execution_count": 1,
   "metadata": {},
   "outputs": [],
   "source": [
    "# imports\n",
    "\n",
    "import cv2\n",
    "import numpy as np\n",
    "import pandas as pd\n",
    "import matplotlib.pyplot as plt\n",
    "from skimage.feature import local_binary_pattern\n",
    "import matplotlib.pyplot as plt\n",
    "import matplotlib.patches as patches\n",
    "import json\n",
    "from shapely.geometry import Polygon, box\n",
    "from shapely.affinity import scale, affine_transform\n",
    "from collections import Counter\n",
    "from sklearn.ensemble import RandomForestClassifier\n",
    "from sklearn.model_selection import train_test_split\n",
    "from sklearn.metrics import accuracy_score, classification_report, recall_score\n",
    "import time\n",
    "from sklearn.metrics import confusion_matrix"
   ]
  },
  {
   "cell_type": "markdown",
   "metadata": {},
   "source": [
    "# main"
   ]
  },
  {
   "cell_type": "code",
   "execution_count": 2,
   "metadata": {},
   "outputs": [],
   "source": [
    "samples = pd.read_csv(\"samples_0_6935.csv\", sep = \",\")"
   ]
  },
  {
   "cell_type": "code",
   "execution_count": 3,
   "metadata": {},
   "outputs": [],
   "source": [
    "samples.drop(columns = [\"Unnamed: 0\", \"image_number\", \"defect_number\"], inplace = True)"
   ]
  },
  {
   "cell_type": "code",
   "execution_count": 4,
   "metadata": {},
   "outputs": [],
   "source": [
    "samples.dropna(inplace = True)\n",
    "samples.to_csv(\"samples_0_6935_filtered.csv\")"
   ]
  },
  {
   "cell_type": "code",
   "execution_count": 5,
   "metadata": {},
   "outputs": [
    {
     "name": "stdout",
     "output_type": "stream",
     "text": [
      "Grafitti:\n",
      "darker                       0.241468\n",
      "gradient                     0.980432\n",
      "reddish                      0.109998\n",
      "metallic                     0.224997\n",
      "colorful                     0.252521\n",
      "black                        0.064317\n",
      "black_thin                   0.081922\n",
      "dominating_color             3.763704\n",
      "color_bin_1                  0.232969\n",
      "color_bin_2                  0.216852\n",
      "color_bin_3                  0.055611\n",
      "color_bin_4                  0.047960\n",
      "color_bin_5                  0.089522\n",
      "color_bin_6                  0.202269\n",
      "color_bin_7                  0.061535\n",
      "color_bin_8                  0.023928\n",
      "color_bin_9                  0.069355\n",
      "color_entropy                1.554542\n",
      "rough                        0.203933\n",
      "dominating_texture           7.115487\n",
      "texture_0                    0.063485\n",
      "texture_1                    0.076174\n",
      "texture_2                    0.059424\n",
      "texture_3                    0.093232\n",
      "texture_4                    0.163839\n",
      "texture_5                    0.112621\n",
      "texture_6                    0.069804\n",
      "texture_7                    0.085226\n",
      "texture_8                    0.084913\n",
      "texture_9                    0.191282\n",
      "rough_entropy                3.125893\n",
      "lengthy                      0.160171\n",
      "number_lengthy_objects       1.098457\n",
      "lengthy_aspect_ratio         2.661476\n",
      "rel_length                   0.237436\n",
      "in_shape                     0.389894\n",
      "roundness                    0.347883\n",
      "hu_moment_1                  0.735627\n",
      "hu_moment_2                  4.193226\n",
      "hu_moment_3                  9.421507\n",
      "hu_moment_4                  6.730079\n",
      "hu_moment_5               9999.473805\n",
      "hu_moment_6                 74.443299\n",
      "hu_moment_7                 72.562856\n",
      "dtype: float64\n",
      "\n",
      "Rust:\n",
      "darker                       0.434706\n",
      "gradient                     0.947143\n",
      "reddish                      0.493747\n",
      "metallic                     0.055034\n",
      "colorful                     0.481758\n",
      "black                        0.089176\n",
      "black_thin                   0.180643\n",
      "dominating_color             1.619085\n",
      "color_bin_1                  0.637531\n",
      "color_bin_2                  0.208787\n",
      "color_bin_3                  0.014754\n",
      "color_bin_4                  0.008113\n",
      "color_bin_5                  0.010096\n",
      "color_bin_6                  0.022276\n",
      "color_bin_7                  0.023639\n",
      "color_bin_8                  0.018606\n",
      "color_bin_9                  0.056197\n",
      "color_entropy                1.020203\n",
      "rough                        0.196340\n",
      "dominating_texture           6.822512\n",
      "texture_0                    0.058893\n",
      "texture_1                    0.065701\n",
      "texture_2                    0.058667\n",
      "texture_3                    0.093211\n",
      "texture_4                    0.163165\n",
      "texture_5                    0.125929\n",
      "texture_6                    0.083127\n",
      "texture_7                    0.091985\n",
      "texture_8                    0.086119\n",
      "texture_9                    0.173203\n",
      "rough_entropy                3.107894\n",
      "lengthy                      0.257774\n",
      "number_lengthy_objects       0.242493\n",
      "lengthy_aspect_ratio         1.717357\n",
      "rel_length                   0.124994\n",
      "in_shape                     0.553771\n",
      "roundness                    0.422789\n",
      "hu_moment_1                  0.673245\n",
      "hu_moment_2                  3.159121\n",
      "hu_moment_3                  6.380177\n",
      "hu_moment_4                  4.711018\n",
      "hu_moment_5               4601.984729\n",
      "hu_moment_6                 57.309686\n",
      "hu_moment_7                 -6.892741\n",
      "dtype: float64\n",
      "\n",
      "Drainage:\n",
      "darker                        0.533289\n",
      "gradient                      0.958447\n",
      "reddish                       0.203637\n",
      "metallic                      0.090901\n",
      "colorful                      0.288146\n",
      "black                         0.239630\n",
      "black_thin                    0.063676\n",
      "dominating_color              2.665405\n",
      "color_bin_1                   0.352780\n",
      "color_bin_2                   0.284536\n",
      "color_bin_3                   0.046320\n",
      "color_bin_4                   0.031903\n",
      "color_bin_5                   0.041122\n",
      "color_bin_6                   0.126045\n",
      "color_bin_7                   0.054086\n",
      "color_bin_8                   0.018327\n",
      "color_bin_9                   0.044882\n",
      "color_entropy                 1.438032\n",
      "rough                         0.329186\n",
      "dominating_texture            6.341408\n",
      "texture_0                     0.053670\n",
      "texture_1                     0.063796\n",
      "texture_2                     0.053537\n",
      "texture_3                     0.095330\n",
      "texture_4                     0.186867\n",
      "texture_5                     0.134615\n",
      "texture_6                     0.076325\n",
      "texture_7                     0.084295\n",
      "texture_8                     0.088484\n",
      "texture_9                     0.163081\n",
      "rough_entropy                 3.070783\n",
      "lengthy                       0.254572\n",
      "number_lengthy_objects        0.646480\n",
      "lengthy_aspect_ratio          2.714680\n",
      "rel_length                    0.229022\n",
      "in_shape                      0.587628\n",
      "roundness                     0.496832\n",
      "hu_moment_1                   1.097304\n",
      "hu_moment_2                   5.073512\n",
      "hu_moment_3                  17.143255\n",
      "hu_moment_4                  13.910277\n",
      "hu_moment_5               29698.908705\n",
      "hu_moment_6                 180.829198\n",
      "hu_moment_7               -1499.692158\n",
      "dtype: float64\n",
      "\n",
      "Wetspot:\n",
      "darker                        0.472535\n",
      "gradient                      0.964993\n",
      "reddish                       0.240543\n",
      "metallic                      0.081993\n",
      "colorful                      0.277934\n",
      "black                         0.116254\n",
      "black_thin                    0.065911\n",
      "dominating_color              2.087500\n",
      "color_bin_1                   0.389894\n",
      "color_bin_2                   0.387470\n",
      "color_bin_3                   0.041848\n",
      "color_bin_4                   0.020105\n",
      "color_bin_5                   0.019423\n",
      "color_bin_6                   0.054951\n",
      "color_bin_7                   0.040441\n",
      "color_bin_8                   0.015297\n",
      "color_bin_9                   0.030572\n",
      "color_entropy                 1.331045\n",
      "rough                         0.144748\n",
      "dominating_texture            8.281250\n",
      "texture_0                     0.074556\n",
      "texture_1                     0.080474\n",
      "texture_2                     0.064727\n",
      "texture_3                     0.085459\n",
      "texture_4                     0.117742\n",
      "texture_5                     0.096163\n",
      "texture_6                     0.074533\n",
      "texture_7                     0.092748\n",
      "texture_8                     0.099150\n",
      "texture_9                     0.214448\n",
      "rough_entropy                 3.172655\n",
      "lengthy                       0.147829\n",
      "number_lengthy_objects        1.961806\n",
      "lengthy_aspect_ratio          4.086222\n",
      "rel_length                    0.156358\n",
      "in_shape                      0.278308\n",
      "roundness                     0.257575\n",
      "hu_moment_1                   0.798548\n",
      "hu_moment_2                   5.278619\n",
      "hu_moment_3                  12.741408\n",
      "hu_moment_4                   7.849884\n",
      "hu_moment_5               21478.859890\n",
      "hu_moment_6                 112.354280\n",
      "hu_moment_7               -2710.595581\n",
      "dtype: float64\n",
      "\n",
      "ExposedRebars:\n",
      "darker                       0.594996\n",
      "gradient                     0.914023\n",
      "reddish                      0.426069\n",
      "metallic                     0.026541\n",
      "colorful                     0.380621\n",
      "black                        0.191812\n",
      "black_thin                   0.234488\n",
      "dominating_color             2.013706\n",
      "color_bin_1                  0.632569\n",
      "color_bin_2                  0.125936\n",
      "color_bin_3                  0.011142\n",
      "color_bin_4                  0.006441\n",
      "color_bin_5                  0.008727\n",
      "color_bin_6                  0.024918\n",
      "color_bin_7                  0.042098\n",
      "color_bin_8                  0.040095\n",
      "color_bin_9                  0.108073\n",
      "color_entropy                1.133816\n",
      "rough                        0.244046\n",
      "dominating_texture           6.965163\n",
      "texture_0                    0.056902\n",
      "texture_1                    0.061471\n",
      "texture_2                    0.058516\n",
      "texture_3                    0.098125\n",
      "texture_4                    0.161736\n",
      "texture_5                    0.109946\n",
      "texture_6                    0.073976\n",
      "texture_7                    0.100025\n",
      "texture_8                    0.098051\n",
      "texture_9                    0.181252\n",
      "rough_entropy                3.129280\n",
      "lengthy                      0.391902\n",
      "number_lengthy_objects       0.168475\n",
      "lengthy_aspect_ratio         1.681213\n",
      "rel_length                   0.112465\n",
      "in_shape                     0.807231\n",
      "roundness                    0.559081\n",
      "hu_moment_1                  0.627672\n",
      "hu_moment_2                  1.276314\n",
      "hu_moment_3                  2.301855\n",
      "hu_moment_4                  1.926150\n",
      "hu_moment_5               1282.117598\n",
      "hu_moment_6                 23.607547\n",
      "hu_moment_7                 21.414431\n",
      "dtype: float64\n",
      "\n",
      "Crack:\n",
      "darker                      0.181653\n",
      "gradient                    0.999377\n",
      "reddish                     0.154430\n",
      "metallic                    0.181745\n",
      "colorful                    0.168004\n",
      "black                       0.042276\n",
      "black_thin                  0.180969\n",
      "dominating_color            2.628299\n",
      "color_bin_1                 0.348022\n",
      "color_bin_2                 0.321657\n",
      "color_bin_3                 0.048901\n",
      "color_bin_4                 0.026871\n",
      "color_bin_5                 0.035317\n",
      "color_bin_6                 0.092303\n",
      "color_bin_7                 0.059272\n",
      "color_bin_8                 0.020742\n",
      "color_bin_9                 0.046917\n",
      "color_entropy               1.309009\n",
      "rough                       0.078112\n",
      "dominating_texture          8.475676\n",
      "texture_0                   0.086969\n",
      "texture_1                   0.087983\n",
      "texture_2                   0.060098\n",
      "texture_3                   0.077103\n",
      "texture_4                   0.108217\n",
      "texture_5                   0.079612\n",
      "texture_6                   0.060788\n",
      "texture_7                   0.100841\n",
      "texture_8                   0.100987\n",
      "texture_9                   0.237403\n",
      "rough_entropy               3.126755\n",
      "lengthy                     0.206867\n",
      "number_lengthy_objects      0.316375\n",
      "lengthy_aspect_ratio        2.197340\n",
      "rel_length                  0.069084\n",
      "in_shape                    0.430988\n",
      "roundness                   0.336522\n",
      "hu_moment_1                 0.839324\n",
      "hu_moment_2                 3.280612\n",
      "hu_moment_3                 5.596894\n",
      "hu_moment_4                 3.139624\n",
      "hu_moment_5               921.079234\n",
      "hu_moment_6                23.096288\n",
      "hu_moment_7               -35.725194\n",
      "dtype: float64\n"
     ]
    }
   ],
   "source": [
    "graffiti = samples[samples['label'] == 'Graffiti']\n",
    "rust = samples[samples['label'] == 'Rust']\n",
    "drainage = samples[samples['label'] == 'Drainage']\n",
    "wetspot = samples[samples['label'] == 'Wetspot']\n",
    "exposedrebars = samples[samples['label'] == 'ExposedRebars']\n",
    "crack = samples[samples['label'] == 'Crack']\n",
    "\n",
    "print(\"Grafitti:\")\n",
    "print(graffiti.loc[:,[\"darker\", \"gradient\", \"reddish\", \"metallic\", \"colorful\", \"black\", \"black_thin\", \"dominating_color\", \"color_bin_1\", \"color_bin_2\", \n",
    "                      \"color_bin_3\", \"color_bin_4\", \"color_bin_5\", \"color_bin_6\", \"color_bin_7\", \"color_bin_8\", \"color_bin_9\", \"color_entropy\", \n",
    "                      \"rough\", \"dominating_texture\", \"texture_0\", \"texture_1\", \"texture_2\", \"texture_3\", \"texture_4\", \"texture_5\", \"texture_6\", \n",
    "                      \"texture_7\", \"texture_8\", \"texture_9\", \"rough_entropy\", \"lengthy\", \"number_lengthy_objects\", \"lengthy_aspect_ratio\", \"rel_length\", \n",
    "                      \"in_shape\", \"roundness\", \"hu_moment_1\", \"hu_moment_2\", \"hu_moment_3\", \"hu_moment_4\", \"hu_moment_5\", \"hu_moment_6\", \n",
    "                      \"hu_moment_7\"]].mean(axis = 0))\n",
    "print()\n",
    "\n",
    "print(\"Rust:\")\n",
    "print(rust.loc[:,[\"darker\", \"gradient\", \"reddish\", \"metallic\", \"colorful\", \"black\", \"black_thin\", \"dominating_color\", \"color_bin_1\", \"color_bin_2\", \n",
    "                      \"color_bin_3\", \"color_bin_4\", \"color_bin_5\", \"color_bin_6\", \"color_bin_7\", \"color_bin_8\", \"color_bin_9\", \"color_entropy\", \n",
    "                      \"rough\", \"dominating_texture\", \"texture_0\", \"texture_1\", \"texture_2\", \"texture_3\", \"texture_4\", \"texture_5\", \"texture_6\", \n",
    "                      \"texture_7\", \"texture_8\", \"texture_9\", \"rough_entropy\", \"lengthy\", \"number_lengthy_objects\", \"lengthy_aspect_ratio\", \"rel_length\", \n",
    "                      \"in_shape\", \"roundness\", \"hu_moment_1\", \"hu_moment_2\", \"hu_moment_3\", \"hu_moment_4\", \"hu_moment_5\", \"hu_moment_6\", \n",
    "                      \"hu_moment_7\"]].mean(axis = 0))\n",
    "print()\n",
    "\n",
    "print(\"Drainage:\")\n",
    "print(drainage.loc[:,[\"darker\", \"gradient\", \"reddish\", \"metallic\", \"colorful\", \"black\", \"black_thin\", \"dominating_color\", \"color_bin_1\", \"color_bin_2\", \n",
    "                      \"color_bin_3\", \"color_bin_4\", \"color_bin_5\", \"color_bin_6\", \"color_bin_7\", \"color_bin_8\", \"color_bin_9\", \"color_entropy\", \n",
    "                      \"rough\", \"dominating_texture\", \"texture_0\", \"texture_1\", \"texture_2\", \"texture_3\", \"texture_4\", \"texture_5\", \"texture_6\", \n",
    "                      \"texture_7\", \"texture_8\", \"texture_9\", \"rough_entropy\", \"lengthy\", \"number_lengthy_objects\", \"lengthy_aspect_ratio\", \"rel_length\", \n",
    "                      \"in_shape\", \"roundness\", \"hu_moment_1\", \"hu_moment_2\", \"hu_moment_3\", \"hu_moment_4\", \"hu_moment_5\", \"hu_moment_6\", \n",
    "                      \"hu_moment_7\"]].mean(axis = 0))\n",
    "print()\n",
    "\n",
    "print(\"Wetspot:\")\n",
    "print(wetspot.loc[:,[\"darker\", \"gradient\", \"reddish\", \"metallic\", \"colorful\", \"black\", \"black_thin\", \"dominating_color\", \"color_bin_1\", \"color_bin_2\", \n",
    "                      \"color_bin_3\", \"color_bin_4\", \"color_bin_5\", \"color_bin_6\", \"color_bin_7\", \"color_bin_8\", \"color_bin_9\", \"color_entropy\", \n",
    "                      \"rough\", \"dominating_texture\", \"texture_0\", \"texture_1\", \"texture_2\", \"texture_3\", \"texture_4\", \"texture_5\", \"texture_6\", \n",
    "                      \"texture_7\", \"texture_8\", \"texture_9\", \"rough_entropy\", \"lengthy\", \"number_lengthy_objects\", \"lengthy_aspect_ratio\", \"rel_length\", \n",
    "                      \"in_shape\", \"roundness\", \"hu_moment_1\", \"hu_moment_2\", \"hu_moment_3\", \"hu_moment_4\", \"hu_moment_5\", \"hu_moment_6\", \n",
    "                      \"hu_moment_7\"]].mean(axis = 0))\n",
    "print()\n",
    "\n",
    "print(\"ExposedRebars:\")\n",
    "print(exposedrebars.loc[:,[\"darker\", \"gradient\", \"reddish\", \"metallic\", \"colorful\", \"black\", \"black_thin\", \"dominating_color\", \"color_bin_1\", \"color_bin_2\", \n",
    "                      \"color_bin_3\", \"color_bin_4\", \"color_bin_5\", \"color_bin_6\", \"color_bin_7\", \"color_bin_8\", \"color_bin_9\", \"color_entropy\", \n",
    "                      \"rough\", \"dominating_texture\", \"texture_0\", \"texture_1\", \"texture_2\", \"texture_3\", \"texture_4\", \"texture_5\", \"texture_6\", \n",
    "                      \"texture_7\", \"texture_8\", \"texture_9\", \"rough_entropy\", \"lengthy\", \"number_lengthy_objects\", \"lengthy_aspect_ratio\", \"rel_length\", \n",
    "                      \"in_shape\", \"roundness\", \"hu_moment_1\", \"hu_moment_2\", \"hu_moment_3\", \"hu_moment_4\", \"hu_moment_5\", \"hu_moment_6\", \n",
    "                      \"hu_moment_7\"]].mean(axis = 0))\n",
    "print()\n",
    "\n",
    "print(\"Crack:\")\n",
    "print(crack.loc[:,[\"darker\", \"gradient\", \"reddish\", \"metallic\", \"colorful\", \"black\", \"black_thin\", \"dominating_color\", \"color_bin_1\", \"color_bin_2\", \n",
    "                      \"color_bin_3\", \"color_bin_4\", \"color_bin_5\", \"color_bin_6\", \"color_bin_7\", \"color_bin_8\", \"color_bin_9\", \"color_entropy\", \n",
    "                      \"rough\", \"dominating_texture\", \"texture_0\", \"texture_1\", \"texture_2\", \"texture_3\", \"texture_4\", \"texture_5\", \"texture_6\", \n",
    "                      \"texture_7\", \"texture_8\", \"texture_9\", \"rough_entropy\", \"lengthy\", \"number_lengthy_objects\", \"lengthy_aspect_ratio\", \"rel_length\", \n",
    "                      \"in_shape\", \"roundness\", \"hu_moment_1\", \"hu_moment_2\", \"hu_moment_3\", \"hu_moment_4\", \"hu_moment_5\", \"hu_moment_6\", \n",
    "                      \"hu_moment_7\"]].mean(axis = 0))\n",
    "\n"
   ]
  },
  {
   "cell_type": "markdown",
   "metadata": {},
   "source": [
    "## Create datasets and classifier"
   ]
  },
  {
   "cell_type": "code",
   "execution_count": 6,
   "metadata": {},
   "outputs": [],
   "source": [
    "def create_train_test_data(samples, target_label, features):\n",
    "\n",
    "    # Create rust labels:\n",
    "    target_class_df = samples.copy()\n",
    "    target_class_df[\"target_label\"] = target_class_df[\"label\"].apply(lambda x: 1 if x == target_label else 0)\n",
    "\n",
    "    # Apply train test split:\n",
    "    x = target_class_df.loc[:, features]\n",
    "    y = target_class_df.loc[:, \"target_label\"]\n",
    "    x_train, x_test, y_train, y_test = train_test_split(x, y, test_size=0.3, random_state=42)\n",
    "\n",
    "    return x_train, x_test, y_train, y_test\n",
    "\n",
    "\n",
    "def run_classifier(samples, target_label, features):\n",
    "\n",
    "    # Generate train test dataset: \n",
    "    x_train, x_test, y_train, y_test = create_train_test_data(samples, target_label, features)\n",
    "\n",
    "    # Initialize the random forest classifier: \n",
    "    clf = RandomForestClassifier(n_estimators=100, random_state=42)\n",
    "\n",
    "    # Train the classifier:\n",
    "    clf.fit(x_train, y_train)\n",
    "\n",
    "    # Test the classifier: \n",
    "    y_pred = clf.predict(x_test)\n",
    "    importances = clf.feature_importances_\n",
    "\n",
    "    feature_importances = pd.DataFrame({'Feature': x_train.columns, 'Importance': importances})\n",
    "    feature_importances = feature_importances.sort_values(by='Importance', ascending=False)\n",
    "\n",
    "    # Evaluate the classification:\n",
    "    accuracy = accuracy_score(y_test, y_pred)\n",
    "    report = classification_report(y_test, y_pred)\n",
    "\n",
    "    confusion_mat = confusion_matrix(y_test, y_pred)\n",
    "    recall = recall_score(y_test, y_pred, average=None)[1]\n",
    "\n",
    "    # Print the confusion matrix\n",
    "    \"\"\"\n",
    "    print(\"Confusion Matrix:\")\n",
    "    print(confusion_mat)\n",
    "    print(f'Accuracy: {accuracy}')\n",
    "    print(f'Classification Report:\\n{report}')\n",
    "    print(feature_importances)\n",
    "    print(f'Recall: {recall}')\n",
    "    \"\"\"\n",
    "    return recall\n",
    "    \n"
   ]
  },
  {
   "cell_type": "markdown",
   "metadata": {},
   "source": [
    "## Apply classification for different defect classes"
   ]
  },
  {
   "cell_type": "code",
   "execution_count": 22,
   "metadata": {},
   "outputs": [
    {
     "name": "stdout",
     "output_type": "stream",
     "text": [
      "Round 0:  {'current_feature_list': ['reddish', 'rough'], 'recall': 0.6851424172440339}\n",
      "Round 1:  {'current_feature_list': ['reddish', 'rough', 'texture_2'], 'recall': 0.7957403130613292}\n",
      "No more improvements possible.\n"
     ]
    }
   ],
   "source": [
    "starting_features = [\"reddish\", \"rough\"]\n",
    "\n",
    "all_features = [\"darker\", \"gradient\", \"reddish\", \"metallic\", \"colorful\", \"black\", \"black_thin\", \"dominating_color\", \"color_bin_1\", \"color_bin_2\", \n",
    "                \"color_bin_3\", \"color_bin_4\", \"color_bin_5\", \"color_bin_6\", \"color_bin_7\", \"color_bin_8\", \"color_bin_9\", \"color_entropy\", \n",
    "                \"rough\", \"dominating_texture\", \"texture_0\", \"texture_1\", \"texture_2\", \"texture_3\", \"texture_4\", \"texture_5\", \"texture_6\", \n",
    "                \"texture_7\", \"texture_8\", \"texture_9\", \"rough_entropy\", \"lengthy\", \"number_lengthy_objects\", \"lengthy_aspect_ratio\", \"rel_length\", \n",
    "                \"in_shape\", \"roundness\", \"hu_moment_1\", \"hu_moment_2\", \"hu_moment_3\", \"hu_moment_4\", \"hu_moment_5\", \"hu_moment_6\", \n",
    "                \"hu_moment_7\"]\n",
    "\n",
    "current_rec = run_classifier(samples, \"Rust\", starting_features)\n",
    "info = {\"Round 0\": {\"current_feature_list\": starting_features, \"recall\": current_rec}}\n",
    "current_features = starting_features\n",
    "\n",
    "for epoch in range(10):\n",
    "\n",
    "    # Initialize lists for current epoch\n",
    "    non_current_features = [i for i in all_features if i not in current_features]\n",
    "    temp_recs = {}\n",
    "\n",
    "    # Test leaving out each current feature\n",
    "    for feature in current_features:\n",
    "        temp_features = current_features.copy()\n",
    "        temp_features.remove(feature)\n",
    "        rec = run_classifier(samples, \"Rust\", temp_features)\n",
    "        temp_recs[feature] = rec\n",
    "\n",
    "    # Test adding each non-current feature\n",
    "    for feature in non_current_features:\n",
    "        temp_features = non_current_features.copy()\n",
    "        temp_features.append(feature)\n",
    "        rec = run_classifier(samples, \"Rust\", temp_features)\n",
    "        temp_recs[feature] = rec\n",
    "    \n",
    "    # Perform action with the hightest resulting recall\n",
    "    print(f\"Round {epoch}: \", info[f\"Round {epoch}\"])\n",
    "    best_new_rec = max(temp_recs.values())\n",
    "    if best_new_rec > current_rec:\n",
    "        current_rec = best_new_rec\n",
    "        feature_for_action = max(temp_recs, key=temp_recs.get)\n",
    "        if feature_for_action in current_features:\n",
    "            current_features.remove(feature_for_action)\n",
    "        else:\n",
    "            current_features.append(feature_for_action)\n",
    "    else:\n",
    "        print(\"No more improvements possible.\")\n",
    "        break\n",
    "\n",
    "    # Update info\n",
    "    info[f\"Round {epoch + 1}\"] = {\"current_feature_list\": current_features, \"recall\": best_new_rec}\n",
    "\n",
    "    "
   ]
  },
  {
   "cell_type": "code",
   "execution_count": null,
   "metadata": {},
   "outputs": [],
   "source": [
    "['gradient', 'reddish', 'metallic', 'dominating_color', 'color_bin_2', 'color_bin_5', 'color_bin_7', 'color_bin_8', 'color_bin_9', 'rough', 'dominating_texture', 'texture_2', 'texture_3', 'texture_6', 'texture_7', 'rel_length', 'in_shape', 'hu_moment_2', 'hu_moment_4', 'hu_moment_5']\n",
    "['gradient', 'reddish', 'metallic', 'dominating_color', 'color_bin_2', 'color_bin_5', 'color_bin_7', 'color_bin_8', 'color_bin_9', 'rough', 'dominating_texture', 'texture_2', 'texture_3', 'texture_6', 'texture_7', 'in_shape', 'hu_moment_2', 'hu_moment_4', 'hu_moment_5']\n",
    "['gradient', 'reddish', 'metallic', 'dominating_color', 'color_bin_2', 'color_bin_5', 'color_bin_7', 'color_bin_9', 'rough', 'dominating_texture', 'texture_2', 'texture_3', 'texture_6', 'texture_7', 'in_shape', 'hu_moment_2', 'hu_moment_4', 'hu_moment_5']\n",
    "['gradient', 'reddish', 'metallic', 'dominating_color', 'color_bin_2', 'color_bin_5', 'color_bin_7', 'color_bin_9', 'rough', 'dominating_texture', 'texture_2', 'texture_3', 'texture_6', 'texture_7', 'in_shape', 'hu_moment_4', 'hu_moment_5']\n",
    "\n"
   ]
  },
  {
   "cell_type": "markdown",
   "metadata": {},
   "source": [
    "**Rust classification**"
   ]
  },
  {
   "cell_type": "code",
   "execution_count": 16,
   "metadata": {},
   "outputs": [
    {
     "data": {
      "text/plain": [
       "0.8049781883500128"
      ]
     },
     "execution_count": 16,
     "metadata": {},
     "output_type": "execute_result"
    }
   ],
   "source": [
    "# Run classifier for rust: \n",
    "run_classifier(samples, \"Rust\", [\"gradient\", \"reddish\", \"metallic\", \"dominating_color\", \"color_bin_2\", \"color_bin_5\", \"color_bin_7\", \n",
    "                                 \"color_bin_8\", \"color_bin_9\", \"rough\", \"dominating_texture\", \"texture_2\", \"texture_3\", \"texture_6\", \n",
    "                                 \"texture_7\", \"rel_length\", \"in_shape\", \"hu_moment_2\", \"hu_moment_4\", \"hu_moment_5\"])"
   ]
  },
  {
   "cell_type": "markdown",
   "metadata": {},
   "source": [
    "**Wetspot classification**"
   ]
  },
  {
   "cell_type": "code",
   "execution_count": 9,
   "metadata": {},
   "outputs": [
    {
     "data": {
      "text/plain": [
       "0.1571753986332574"
      ]
     },
     "execution_count": 9,
     "metadata": {},
     "output_type": "execute_result"
    }
   ],
   "source": [
    "# Rund classifier for wetspots:\n",
    "run_classifier(samples, \"Wetspot\", [\"darker\", \"metallic\", \"colorful\", \"black\", \"color_bin_2\", \"color_bin_3\", \"color_bin_4\", \n",
    "                                    \"color_bin_5\", \"color_bin_8\", \"rough\", \"texture_2\", \"texture_3\", \"texture_4\", \n",
    "                                    \"texture_8\", \"number_lengthy_objects\", \"lengthy_aspect_ratio\", \"rel_length\", \"in_shape\", \n",
    "                                    \"hu_moment_4\", \"hu_moment_5\"])\n"
   ]
  },
  {
   "cell_type": "markdown",
   "metadata": {},
   "source": [
    "**Exposed Rebars**"
   ]
  },
  {
   "cell_type": "code",
   "execution_count": 10,
   "metadata": {},
   "outputs": [
    {
     "data": {
      "text/plain": [
       "0.030710172744721688"
      ]
     },
     "execution_count": 10,
     "metadata": {},
     "output_type": "execute_result"
    }
   ],
   "source": [
    "# Rund classifier for exposed rebars:\n",
    "run_classifier(samples, \"ExposedRebars\", ['darker',\n",
    " 'colorful',\n",
    " 'dominating_color',\n",
    " 'color_bin_1',\n",
    " 'color_bin_2',\n",
    " 'color_bin_9',\n",
    " 'color_entropy',\n",
    " 'texture_1',\n",
    " 'texture_4',\n",
    " 'texture_5',\n",
    " 'texture_6',\n",
    " 'texture_7',\n",
    " 'texture_9',\n",
    " 'lengthy',\n",
    " 'number_lengthy_objects',\n",
    " 'lengthy_aspect_ratio',\n",
    " 'in_shape',\n",
    " 'roundness',\n",
    " 'hu_moment_1',\n",
    " 'hu_moment_4'])"
   ]
  },
  {
   "cell_type": "markdown",
   "metadata": {},
   "source": [
    "**Graffiti classification**"
   ]
  },
  {
   "cell_type": "code",
   "execution_count": 20,
   "metadata": {},
   "outputs": [
    {
     "data": {
      "text/plain": [
       "0.25512104283054005"
      ]
     },
     "execution_count": 20,
     "metadata": {},
     "output_type": "execute_result"
    }
   ],
   "source": [
    "# Run classifier for Graffiti:\n",
    "run_classifier(samples, \"Graffiti\", [\"reddish\", \"metallic\", \"colorful\", \"black_thin\", \"dominating_color\", \"color_bin_2\",\n",
    "                      \"color_bin_4\", \"color_bin_5\", \"color_bin_6\", \"color_bin_7\", \"color_bin_9\",\n",
    "                      \"dominating_texture\", \"texture_1\", \"texture_2\",\n",
    "                      \"texture_7\", \"texture_9\", \"rel_length\",\n",
    "                      \"in_shape\", \"roundness\", \"hu_moment_5\", \"hu_moment_6\"])"
   ]
  },
  {
   "cell_type": "markdown",
   "metadata": {},
   "source": [
    "**Drainage classification**"
   ]
  },
  {
   "cell_type": "code",
   "execution_count": 23,
   "metadata": {},
   "outputs": [
    {
     "data": {
      "text/plain": [
       "0.05804749340369393"
      ]
     },
     "execution_count": 23,
     "metadata": {},
     "output_type": "execute_result"
    }
   ],
   "source": [
    "# Run classifier for Graffiti:\n",
    "run_classifier(samples, \"Drainage\", [\"reddish\", \"black\", \"color_bin_5\", \"color_bin_7\", \"color_bin_9\", \"color_entropy\", \n",
    "                      \"rough\", \"texture_0\", \"texture_2\", \"texture_3\", \"texture_6\", \n",
    "                      \"texture_8\", \"rough_entropy\", \"rel_length\", \n",
    "                      \"in_shape\", \"roundness\", \"hu_moment_2\", \"hu_moment_4\", \"hu_moment_5\", \"hu_moment_6\"])"
   ]
  },
  {
   "cell_type": "markdown",
   "metadata": {},
   "source": [
    "**Crack**"
   ]
  },
  {
   "cell_type": "code",
   "execution_count": 22,
   "metadata": {},
   "outputs": [
    {
     "data": {
      "text/plain": [
       "0.5149171270718232"
      ]
     },
     "execution_count": 22,
     "metadata": {},
     "output_type": "execute_result"
    }
   ],
   "source": [
    "# Run classifier for Crack:\n",
    "run_classifier(samples, \"Crack\", ['darker',\n",
    " 'gradient',\n",
    " 'reddish',\n",
    " 'colorful',\n",
    " 'black',\n",
    " 'dominating_color',\n",
    " 'color_bin_2',\n",
    " 'color_bin_3',\n",
    " 'rough',\n",
    " 'texture_0',\n",
    " 'texture_3',\n",
    " 'texture_5',\n",
    " 'texture_6',\n",
    " 'texture_8',\n",
    " 'texture_9',\n",
    " 'lengthy',\n",
    " 'number_lengthy_objects',\n",
    " 'lengthy_aspect_ratio',\n",
    " 'hu_moment_1',\n",
    " 'hu_moment_2',\n",
    " 'hu_moment_3'])"
   ]
  }
 ],
 "metadata": {
  "kernelspec": {
   "display_name": "Python 3",
   "language": "python",
   "name": "python3"
  },
  "language_info": {
   "codemirror_mode": {
    "name": "ipython",
    "version": 3
   },
   "file_extension": ".py",
   "mimetype": "text/x-python",
   "name": "python",
   "nbconvert_exporter": "python",
   "pygments_lexer": "ipython3",
   "version": "3.11.3"
  }
 },
 "nbformat": 4,
 "nbformat_minor": 2
}
