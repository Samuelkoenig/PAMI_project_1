{
 "cells": [
  {
   "cell_type": "markdown",
   "metadata": {},
   "source": [
    "## Main Program for classification"
   ]
  },
  {
   "cell_type": "markdown",
   "metadata": {},
   "source": [
    "# imports"
   ]
  },
  {
   "cell_type": "code",
<<<<<<< HEAD
   "execution_count": 1,
=======
   "execution_count": 2,
>>>>>>> 8b2216bc9afdb111683d7a517782c48f006d12d9
   "metadata": {},
   "outputs": [],
   "source": [
    "# imports\n",
    "\n",
    "import cv2\n",
    "import numpy as np\n",
    "import pandas as pd\n",
    "import matplotlib.pyplot as plt\n",
    "from skimage.feature import local_binary_pattern\n",
    "import matplotlib.pyplot as plt\n",
    "import matplotlib.patches as patches\n",
    "import json\n",
    "from shapely.geometry import Polygon, box\n",
    "from shapely.affinity import scale, affine_transform\n",
    "from collections import Counter\n",
    "from sklearn.ensemble import RandomForestClassifier\n",
    "from sklearn.model_selection import train_test_split\n",
    "from sklearn.metrics import accuracy_score, classification_report, recall_score\n",
    "import time\n",
    "from sklearn.metrics import confusion_matrix"
   ]
  },
  {
   "cell_type": "markdown",
   "metadata": {},
   "source": [
    "# main"
   ]
  },
  {
   "cell_type": "code",
<<<<<<< HEAD
   "execution_count": 2,
=======
   "execution_count": 3,
>>>>>>> 8b2216bc9afdb111683d7a517782c48f006d12d9
   "metadata": {},
   "outputs": [],
   "source": [
    "samples = pd.read_csv(\"samples_0_6935.csv\", sep = \",\")"
   ]
  },
  {
   "cell_type": "code",
<<<<<<< HEAD
   "execution_count": 3,
=======
   "execution_count": 4,
>>>>>>> 8b2216bc9afdb111683d7a517782c48f006d12d9
   "metadata": {},
   "outputs": [],
   "source": [
    "samples.drop(columns = [\"Unnamed: 0\", \"image_number\", \"defect_number\"], inplace = True)"
   ]
  },
  {
   "cell_type": "code",
<<<<<<< HEAD
   "execution_count": 4,
=======
   "execution_count": 5,
>>>>>>> 8b2216bc9afdb111683d7a517782c48f006d12d9
   "metadata": {},
   "outputs": [],
   "source": [
    "samples.dropna(inplace = True)\n",
    "samples.to_csv(\"samples_0_6935_filtered.csv\")"
   ]
  },
  {
   "cell_type": "code",
<<<<<<< HEAD
   "execution_count": 5,
=======
   "execution_count": 6,
>>>>>>> 8b2216bc9afdb111683d7a517782c48f006d12d9
   "metadata": {},
   "outputs": [
    {
     "name": "stdout",
     "output_type": "stream",
     "text": [
      "Grafitti:\n",
      "darker                       0.241468\n",
      "gradient                     0.980432\n",
      "reddish                      0.109998\n",
      "metallic                     0.224997\n",
      "colorful                     0.252521\n",
      "black                        0.064317\n",
      "black_thin                   0.081922\n",
      "dominating_color             3.763704\n",
      "color_bin_1                  0.232969\n",
      "color_bin_2                  0.216852\n",
      "color_bin_3                  0.055611\n",
      "color_bin_4                  0.047960\n",
      "color_bin_5                  0.089522\n",
      "color_bin_6                  0.202269\n",
      "color_bin_7                  0.061535\n",
      "color_bin_8                  0.023928\n",
      "color_bin_9                  0.069355\n",
      "color_entropy                1.554542\n",
      "rough                        0.203933\n",
      "dominating_texture           7.115487\n",
      "texture_0                    0.063485\n",
      "texture_1                    0.076174\n",
      "texture_2                    0.059424\n",
      "texture_3                    0.093232\n",
      "texture_4                    0.163839\n",
      "texture_5                    0.112621\n",
      "texture_6                    0.069804\n",
      "texture_7                    0.085226\n",
      "texture_8                    0.084913\n",
      "texture_9                    0.191282\n",
      "rough_entropy                3.125893\n",
      "lengthy                      0.160171\n",
      "number_lengthy_objects       1.098457\n",
      "lengthy_aspect_ratio         2.661476\n",
      "rel_length                   0.237436\n",
      "in_shape                     0.389894\n",
      "roundness                    0.347883\n",
      "hu_moment_1                  0.735627\n",
      "hu_moment_2                  4.193226\n",
      "hu_moment_3                  9.421507\n",
      "hu_moment_4                  6.730079\n",
      "hu_moment_5               9999.473805\n",
      "hu_moment_6                 74.443299\n",
      "hu_moment_7                 72.562856\n",
      "dtype: float64\n",
      "\n",
      "Rust:\n",
      "darker                       0.434706\n",
      "gradient                     0.947143\n",
      "reddish                      0.493747\n",
      "metallic                     0.055034\n",
      "colorful                     0.481758\n",
      "black                        0.089176\n",
      "black_thin                   0.180643\n",
      "dominating_color             1.619085\n",
      "color_bin_1                  0.637531\n",
      "color_bin_2                  0.208787\n",
      "color_bin_3                  0.014754\n",
      "color_bin_4                  0.008113\n",
      "color_bin_5                  0.010096\n",
      "color_bin_6                  0.022276\n",
      "color_bin_7                  0.023639\n",
      "color_bin_8                  0.018606\n",
      "color_bin_9                  0.056197\n",
      "color_entropy                1.020203\n",
      "rough                        0.196340\n",
      "dominating_texture           6.822512\n",
      "texture_0                    0.058893\n",
      "texture_1                    0.065701\n",
      "texture_2                    0.058667\n",
      "texture_3                    0.093211\n",
      "texture_4                    0.163165\n",
      "texture_5                    0.125929\n",
      "texture_6                    0.083127\n",
      "texture_7                    0.091985\n",
      "texture_8                    0.086119\n",
      "texture_9                    0.173203\n",
      "rough_entropy                3.107894\n",
      "lengthy                      0.257774\n",
      "number_lengthy_objects       0.242493\n",
      "lengthy_aspect_ratio         1.717357\n",
      "rel_length                   0.124994\n",
      "in_shape                     0.553771\n",
      "roundness                    0.422789\n",
      "hu_moment_1                  0.673245\n",
      "hu_moment_2                  3.159121\n",
      "hu_moment_3                  6.380177\n",
      "hu_moment_4                  4.711018\n",
      "hu_moment_5               4601.984729\n",
      "hu_moment_6                 57.309686\n",
      "hu_moment_7                 -6.892741\n",
      "dtype: float64\n",
      "\n",
      "Drainage:\n",
      "darker                        0.533289\n",
      "gradient                      0.958447\n",
      "reddish                       0.203637\n",
      "metallic                      0.090901\n",
      "colorful                      0.288146\n",
      "black                         0.239630\n",
      "black_thin                    0.063676\n",
      "dominating_color              2.665405\n",
      "color_bin_1                   0.352780\n",
      "color_bin_2                   0.284536\n",
      "color_bin_3                   0.046320\n",
      "color_bin_4                   0.031903\n",
      "color_bin_5                   0.041122\n",
      "color_bin_6                   0.126045\n",
      "color_bin_7                   0.054086\n",
      "color_bin_8                   0.018327\n",
      "color_bin_9                   0.044882\n",
      "color_entropy                 1.438032\n",
      "rough                         0.329186\n",
      "dominating_texture            6.341408\n",
      "texture_0                     0.053670\n",
      "texture_1                     0.063796\n",
      "texture_2                     0.053537\n",
      "texture_3                     0.095330\n",
      "texture_4                     0.186867\n",
      "texture_5                     0.134615\n",
      "texture_6                     0.076325\n",
      "texture_7                     0.084295\n",
      "texture_8                     0.088484\n",
      "texture_9                     0.163081\n",
      "rough_entropy                 3.070783\n",
      "lengthy                       0.254572\n",
      "number_lengthy_objects        0.646480\n",
      "lengthy_aspect_ratio          2.714680\n",
      "rel_length                    0.229022\n",
      "in_shape                      0.587628\n",
      "roundness                     0.496832\n",
      "hu_moment_1                   1.097304\n",
      "hu_moment_2                   5.073512\n",
      "hu_moment_3                  17.143255\n",
      "hu_moment_4                  13.910277\n",
      "hu_moment_5               29698.908705\n",
      "hu_moment_6                 180.829198\n",
      "hu_moment_7               -1499.692158\n",
      "dtype: float64\n",
      "\n",
      "Wetspot:\n",
      "darker                        0.472535\n",
      "gradient                      0.964993\n",
      "reddish                       0.240543\n",
      "metallic                      0.081993\n",
      "colorful                      0.277934\n",
      "black                         0.116254\n",
      "black_thin                    0.065911\n",
      "dominating_color              2.087500\n",
      "color_bin_1                   0.389894\n",
      "color_bin_2                   0.387470\n",
      "color_bin_3                   0.041848\n",
      "color_bin_4                   0.020105\n",
      "color_bin_5                   0.019423\n",
      "color_bin_6                   0.054951\n",
      "color_bin_7                   0.040441\n",
      "color_bin_8                   0.015297\n",
      "color_bin_9                   0.030572\n",
      "color_entropy                 1.331045\n",
      "rough                         0.144748\n",
      "dominating_texture            8.281250\n",
      "texture_0                     0.074556\n",
      "texture_1                     0.080474\n",
      "texture_2                     0.064727\n",
      "texture_3                     0.085459\n",
      "texture_4                     0.117742\n",
      "texture_5                     0.096163\n",
      "texture_6                     0.074533\n",
      "texture_7                     0.092748\n",
      "texture_8                     0.099150\n",
      "texture_9                     0.214448\n",
      "rough_entropy                 3.172655\n",
      "lengthy                       0.147829\n",
      "number_lengthy_objects        1.961806\n",
      "lengthy_aspect_ratio          4.086222\n",
      "rel_length                    0.156358\n",
      "in_shape                      0.278308\n",
      "roundness                     0.257575\n",
      "hu_moment_1                   0.798548\n",
      "hu_moment_2                   5.278619\n",
      "hu_moment_3                  12.741408\n",
      "hu_moment_4                   7.849884\n",
      "hu_moment_5               21478.859890\n",
      "hu_moment_6                 112.354280\n",
      "hu_moment_7               -2710.595581\n",
      "dtype: float64\n",
      "\n",
      "ExposedRebars:\n",
      "darker                       0.594996\n",
      "gradient                     0.914023\n",
      "reddish                      0.426069\n",
      "metallic                     0.026541\n",
      "colorful                     0.380621\n",
      "black                        0.191812\n",
      "black_thin                   0.234488\n",
      "dominating_color             2.013706\n",
      "color_bin_1                  0.632569\n",
      "color_bin_2                  0.125936\n",
      "color_bin_3                  0.011142\n",
      "color_bin_4                  0.006441\n",
      "color_bin_5                  0.008727\n",
      "color_bin_6                  0.024918\n",
      "color_bin_7                  0.042098\n",
      "color_bin_8                  0.040095\n",
      "color_bin_9                  0.108073\n",
      "color_entropy                1.133816\n",
      "rough                        0.244046\n",
      "dominating_texture           6.965163\n",
      "texture_0                    0.056902\n",
      "texture_1                    0.061471\n",
      "texture_2                    0.058516\n",
      "texture_3                    0.098125\n",
      "texture_4                    0.161736\n",
      "texture_5                    0.109946\n",
      "texture_6                    0.073976\n",
      "texture_7                    0.100025\n",
      "texture_8                    0.098051\n",
      "texture_9                    0.181252\n",
      "rough_entropy                3.129280\n",
      "lengthy                      0.391902\n",
      "number_lengthy_objects       0.168475\n",
      "lengthy_aspect_ratio         1.681213\n",
      "rel_length                   0.112465\n",
      "in_shape                     0.807231\n",
      "roundness                    0.559081\n",
      "hu_moment_1                  0.627672\n",
      "hu_moment_2                  1.276314\n",
      "hu_moment_3                  2.301855\n",
      "hu_moment_4                  1.926150\n",
      "hu_moment_5               1282.117598\n",
      "hu_moment_6                 23.607547\n",
      "hu_moment_7                 21.414431\n",
      "dtype: float64\n",
      "\n",
      "Crack:\n",
      "darker                      0.181653\n",
      "gradient                    0.999377\n",
      "reddish                     0.154430\n",
      "metallic                    0.181745\n",
      "colorful                    0.168004\n",
      "black                       0.042276\n",
      "black_thin                  0.180969\n",
      "dominating_color            2.628299\n",
      "color_bin_1                 0.348022\n",
      "color_bin_2                 0.321657\n",
      "color_bin_3                 0.048901\n",
      "color_bin_4                 0.026871\n",
      "color_bin_5                 0.035317\n",
      "color_bin_6                 0.092303\n",
      "color_bin_7                 0.059272\n",
      "color_bin_8                 0.020742\n",
      "color_bin_9                 0.046917\n",
      "color_entropy               1.309009\n",
      "rough                       0.078112\n",
      "dominating_texture          8.475676\n",
      "texture_0                   0.086969\n",
      "texture_1                   0.087983\n",
      "texture_2                   0.060098\n",
      "texture_3                   0.077103\n",
      "texture_4                   0.108217\n",
      "texture_5                   0.079612\n",
      "texture_6                   0.060788\n",
      "texture_7                   0.100841\n",
      "texture_8                   0.100987\n",
      "texture_9                   0.237403\n",
      "rough_entropy               3.126755\n",
      "lengthy                     0.206867\n",
      "number_lengthy_objects      0.316375\n",
      "lengthy_aspect_ratio        2.197340\n",
      "rel_length                  0.069084\n",
      "in_shape                    0.430988\n",
      "roundness                   0.336522\n",
      "hu_moment_1                 0.839324\n",
      "hu_moment_2                 3.280612\n",
      "hu_moment_3                 5.596894\n",
      "hu_moment_4                 3.139624\n",
      "hu_moment_5               921.079234\n",
      "hu_moment_6                23.096288\n",
      "hu_moment_7               -35.725194\n",
      "dtype: float64\n"
     ]
    }
   ],
   "source": [
    "graffiti = samples[samples['label'] == 'Graffiti']\n",
    "rust = samples[samples['label'] == 'Rust']\n",
    "drainage = samples[samples['label'] == 'Drainage']\n",
    "wetspot = samples[samples['label'] == 'Wetspot']\n",
    "exposedrebars = samples[samples['label'] == 'ExposedRebars']\n",
    "crack = samples[samples['label'] == 'Crack']\n",
    "\n",
    "print(\"Grafitti:\")\n",
    "print(graffiti.loc[:,[\"darker\", \"gradient\", \"reddish\", \"metallic\", \"colorful\", \"black\", \"black_thin\", \"dominating_color\", \"color_bin_1\", \"color_bin_2\", \n",
    "                      \"color_bin_3\", \"color_bin_4\", \"color_bin_5\", \"color_bin_6\", \"color_bin_7\", \"color_bin_8\", \"color_bin_9\", \"color_entropy\", \n",
    "                      \"rough\", \"dominating_texture\", \"texture_0\", \"texture_1\", \"texture_2\", \"texture_3\", \"texture_4\", \"texture_5\", \"texture_6\", \n",
    "                      \"texture_7\", \"texture_8\", \"texture_9\", \"rough_entropy\", \"lengthy\", \"number_lengthy_objects\", \"lengthy_aspect_ratio\", \"rel_length\", \n",
    "                      \"in_shape\", \"roundness\", \"hu_moment_1\", \"hu_moment_2\", \"hu_moment_3\", \"hu_moment_4\", \"hu_moment_5\", \"hu_moment_6\", \n",
    "                      \"hu_moment_7\"]].mean(axis = 0))\n",
    "print()\n",
    "\n",
    "print(\"Rust:\")\n",
    "print(rust.loc[:,[\"darker\", \"gradient\", \"reddish\", \"metallic\", \"colorful\", \"black\", \"black_thin\", \"dominating_color\", \"color_bin_1\", \"color_bin_2\", \n",
    "                      \"color_bin_3\", \"color_bin_4\", \"color_bin_5\", \"color_bin_6\", \"color_bin_7\", \"color_bin_8\", \"color_bin_9\", \"color_entropy\", \n",
    "                      \"rough\", \"dominating_texture\", \"texture_0\", \"texture_1\", \"texture_2\", \"texture_3\", \"texture_4\", \"texture_5\", \"texture_6\", \n",
    "                      \"texture_7\", \"texture_8\", \"texture_9\", \"rough_entropy\", \"lengthy\", \"number_lengthy_objects\", \"lengthy_aspect_ratio\", \"rel_length\", \n",
    "                      \"in_shape\", \"roundness\", \"hu_moment_1\", \"hu_moment_2\", \"hu_moment_3\", \"hu_moment_4\", \"hu_moment_5\", \"hu_moment_6\", \n",
    "                      \"hu_moment_7\"]].mean(axis = 0))\n",
    "print()\n",
    "\n",
    "print(\"Drainage:\")\n",
    "print(drainage.loc[:,[\"darker\", \"gradient\", \"reddish\", \"metallic\", \"colorful\", \"black\", \"black_thin\", \"dominating_color\", \"color_bin_1\", \"color_bin_2\", \n",
    "                      \"color_bin_3\", \"color_bin_4\", \"color_bin_5\", \"color_bin_6\", \"color_bin_7\", \"color_bin_8\", \"color_bin_9\", \"color_entropy\", \n",
    "                      \"rough\", \"dominating_texture\", \"texture_0\", \"texture_1\", \"texture_2\", \"texture_3\", \"texture_4\", \"texture_5\", \"texture_6\", \n",
    "                      \"texture_7\", \"texture_8\", \"texture_9\", \"rough_entropy\", \"lengthy\", \"number_lengthy_objects\", \"lengthy_aspect_ratio\", \"rel_length\", \n",
    "                      \"in_shape\", \"roundness\", \"hu_moment_1\", \"hu_moment_2\", \"hu_moment_3\", \"hu_moment_4\", \"hu_moment_5\", \"hu_moment_6\", \n",
    "                      \"hu_moment_7\"]].mean(axis = 0))\n",
    "print()\n",
    "\n",
    "print(\"Wetspot:\")\n",
    "print(wetspot.loc[:,[\"darker\", \"gradient\", \"reddish\", \"metallic\", \"colorful\", \"black\", \"black_thin\", \"dominating_color\", \"color_bin_1\", \"color_bin_2\", \n",
    "                      \"color_bin_3\", \"color_bin_4\", \"color_bin_5\", \"color_bin_6\", \"color_bin_7\", \"color_bin_8\", \"color_bin_9\", \"color_entropy\", \n",
    "                      \"rough\", \"dominating_texture\", \"texture_0\", \"texture_1\", \"texture_2\", \"texture_3\", \"texture_4\", \"texture_5\", \"texture_6\", \n",
    "                      \"texture_7\", \"texture_8\", \"texture_9\", \"rough_entropy\", \"lengthy\", \"number_lengthy_objects\", \"lengthy_aspect_ratio\", \"rel_length\", \n",
    "                      \"in_shape\", \"roundness\", \"hu_moment_1\", \"hu_moment_2\", \"hu_moment_3\", \"hu_moment_4\", \"hu_moment_5\", \"hu_moment_6\", \n",
    "                      \"hu_moment_7\"]].mean(axis = 0))\n",
    "print()\n",
    "\n",
    "print(\"ExposedRebars:\")\n",
    "print(exposedrebars.loc[:,[\"darker\", \"gradient\", \"reddish\", \"metallic\", \"colorful\", \"black\", \"black_thin\", \"dominating_color\", \"color_bin_1\", \"color_bin_2\", \n",
    "                      \"color_bin_3\", \"color_bin_4\", \"color_bin_5\", \"color_bin_6\", \"color_bin_7\", \"color_bin_8\", \"color_bin_9\", \"color_entropy\", \n",
    "                      \"rough\", \"dominating_texture\", \"texture_0\", \"texture_1\", \"texture_2\", \"texture_3\", \"texture_4\", \"texture_5\", \"texture_6\", \n",
    "                      \"texture_7\", \"texture_8\", \"texture_9\", \"rough_entropy\", \"lengthy\", \"number_lengthy_objects\", \"lengthy_aspect_ratio\", \"rel_length\", \n",
    "                      \"in_shape\", \"roundness\", \"hu_moment_1\", \"hu_moment_2\", \"hu_moment_3\", \"hu_moment_4\", \"hu_moment_5\", \"hu_moment_6\", \n",
    "                      \"hu_moment_7\"]].mean(axis = 0))\n",
    "print()\n",
    "\n",
    "print(\"Crack:\")\n",
    "print(crack.loc[:,[\"darker\", \"gradient\", \"reddish\", \"metallic\", \"colorful\", \"black\", \"black_thin\", \"dominating_color\", \"color_bin_1\", \"color_bin_2\", \n",
    "                      \"color_bin_3\", \"color_bin_4\", \"color_bin_5\", \"color_bin_6\", \"color_bin_7\", \"color_bin_8\", \"color_bin_9\", \"color_entropy\", \n",
    "                      \"rough\", \"dominating_texture\", \"texture_0\", \"texture_1\", \"texture_2\", \"texture_3\", \"texture_4\", \"texture_5\", \"texture_6\", \n",
    "                      \"texture_7\", \"texture_8\", \"texture_9\", \"rough_entropy\", \"lengthy\", \"number_lengthy_objects\", \"lengthy_aspect_ratio\", \"rel_length\", \n",
    "                      \"in_shape\", \"roundness\", \"hu_moment_1\", \"hu_moment_2\", \"hu_moment_3\", \"hu_moment_4\", \"hu_moment_5\", \"hu_moment_6\", \n",
    "                      \"hu_moment_7\"]].mean(axis = 0))\n",
    "\n"
   ]
  },
  {
   "cell_type": "markdown",
   "metadata": {},
   "source": [
    "## Create datasets and classifier"
   ]
  },
  {
   "cell_type": "code",
<<<<<<< HEAD
   "execution_count": 63,
=======
   "execution_count": 7,
>>>>>>> 8b2216bc9afdb111683d7a517782c48f006d12d9
   "metadata": {},
   "outputs": [],
   "source": [
    "def create_train_test_data(samples, target_label, features):\n",
    "\n",
    "    # Create rust labels:\n",
    "    target_class_df = samples.copy()\n",
    "    target_class_df[\"target_label\"] = target_class_df[\"label\"].apply(lambda x: 1 if x == target_label else 0)\n",
    "\n",
    "    # Apply train test split:\n",
    "    target_class_df = target_class_df.sort_values(by = \"target_label\", ascending = False)\n",
    "    number_of_defects = target_class_df[\"target_label\"].sum()\n",
    "    target_class_df = target_class_df.iloc[:2*number_of_defects, :]\n",
    "    x = target_class_df.loc[:, features]\n",
    "    y = target_class_df.loc[:, \"target_label\"]\n",
    "    x_train, x_test, y_train, y_test = train_test_split(x, y, test_size=0.3, random_state=42)\n",
    "\n",
    "    return x_train, x_test, y_train, y_test\n",
    "\n",
    "\n",
    "def run_classifier(samples, target_label, features, number_of_forests = 1):\n",
    "\n",
    "    # Generate train test dataset: \n",
    "    x_train, x_test, y_train, y_test = create_train_test_data(samples, target_label, features)\n",
    "\n",
    "    # Initialize the random forest classifier: \n",
    "\n",
    "    for i in range(number_of_forests):\n",
    "        clf = RandomForestClassifier(n_estimators=50, criterion= \"entropy\", random_state=i, max_depth=10)\n",
    "        clf.fit(x_train, y_train)\n",
    "        y_pred = clf.predict(x_test)\n",
    "\n",
    "        if i == 0:\n",
    "            y_pred_final = y_pred\n",
    "        else:\n",
    "            y_pred_final = np.array([1 if y_pred[i] == 1 or y_pred_final[i] == 1 else 0 for i in range(len(y_pred))])\n",
    "\n",
    "    \"\"\"      \n",
    "    clf = RandomForestClassifier(n_estimators=100, criterion= \"entropy\", random_state=42, max_depth=10)\n",
    "    clf2 = RandomForestClassifier(n_estimators=100, criterion= \"entropy\", random_state=41, max_depth=10)\n",
    "    clf3 = RandomForestClassifier(n_estimators=100, criterion= \"entropy\", random_state=40, max_depth=10)\n",
    "    clf4 = RandomForestClassifier(n_estimators=100, criterion= \"entropy\", random_state=39, max_depth=10)\n",
    "    clf5 = RandomForestClassifier(n_estimators=100, criterion= \"entropy\", random_state=38, max_depth=10)\n",
    "\n",
    "    # Train the classifier:\n",
    "    clf.fit(x_train, y_train)\n",
    "    clf2.fit(x_train, y_train)\n",
    "    clf3.fit(x_train, y_train)\n",
    "    clf4.fit(x_train, y_train)\n",
    "    clf5.fit(x_train, y_train)\n",
    "\n",
    "    # Test the classifier: \n",
    "    y_pred = clf.predict(x_test)\n",
    "    y_pred2 = clf2.predict(x_test)\n",
    "    y_pred3 = clf3.predict(x_test)\n",
    "    y_pred4 = clf4.predict(x_test)\n",
    "    y_pred5 = clf5.predict(x_test) \n",
    "\n",
    "    y_pred_final = np.array([1 if y_pred[i] == 1 or y_pred2[i] == 1 or y_pred3[i] == 1 or y_pred[else 0 for i in range(len(y_pred))])\n",
    "    \"\"\"\n",
    "    \n",
    "    importances = clf.feature_importances_\n",
    "\n",
    "    feature_importances = pd.DataFrame({'Feature': x_train.columns, 'Importance': importances})\n",
    "    feature_importances = feature_importances.sort_values(by='Importance', ascending=False)\n",
    "\n",
    "    # Evaluate the classification:\n",
    "    accuracy = accuracy_score(y_test, y_pred_final)\n",
    "    report = classification_report(y_test, y_pred_final)\n",
    "\n",
    "    confusion_mat = confusion_matrix(y_test, y_pred_final)\n",
    "    recall = recall_score(y_test, y_pred_final, average=None)[1]\n",
    "\n",
    "    # Print the confusion matrix\n",
    "    print(\"Confusion Matrix:\")\n",
    "    print(confusion_mat)\n",
    "    print(f'Accuracy: {accuracy}')\n",
    "    print(f'Recall: {recall}')\n",
    "    #print(f'Classification Report:\\n{report}')\n",
    "    #print(feature_importances)\n",
    "    #print(feature_importances2)\n",
    "    print(feature_importances)\n",
    "\n",
    "    return recall\n",
    "    \n"
   ]
  },
  {
   "cell_type": "markdown",
   "metadata": {},
   "source": [
    "## Apply classification for different defect classes"
   ]
  },
  {
   "cell_type": "markdown",
   "metadata": {},
   "source": [
    "**Rust classification**"
   ]
  },
  {
   "cell_type": "code",
<<<<<<< HEAD
   "execution_count": 42,
   "metadata": {},
   "outputs": [
    {
     "name": "stdout",
     "output_type": "stream",
     "text": [
      "Confusion Matrix:\n",
      "[[1674 1171]\n",
      " [ 605 3228]]\n",
      "Accuracy: 0.734052111410602\n",
      "Recall: 0.8421601878424211\n",
      "    Feature  Importance\n",
      "1   reddish    0.534584\n",
      "2  colorful    0.266455\n",
      "0  gradient    0.198960\n"
     ]
    },
    {
     "data": {
      "text/plain": [
       "0.8421601878424211"
      ]
     },
     "execution_count": 42,
=======
   "execution_count": 16,
   "metadata": {},
   "outputs": [
    {
     "data": {
      "text/plain": [
       "0.8049781883500128"
      ]
     },
     "execution_count": 16,
>>>>>>> 8b2216bc9afdb111683d7a517782c48f006d12d9
     "metadata": {},
     "output_type": "execute_result"
    }
   ],
   "source": [
    "# Run classifier for rust: \n",
<<<<<<< HEAD
    "run_classifier(samples, \"Rust\", [\"gradient\", \"reddish\", \"colorful\"], 2)"
=======
    "run_classifier(samples, \"Rust\", [\"gradient\", \"reddish\", \"metallic\", \"dominating_color\", \"color_bin_2\", \"color_bin_5\", \"color_bin_7\", \n",
    "                                 \"color_bin_8\", \"color_bin_9\", \"rough\", \"dominating_texture\", \"texture_2\", \"texture_3\", \"texture_6\", \n",
    "                                 \"texture_7\", \"rel_length\", \"in_shape\", \"hu_moment_2\", \"hu_moment_4\", \"hu_moment_5\"])"
>>>>>>> 8b2216bc9afdb111683d7a517782c48f006d12d9
   ]
  },
  {
   "cell_type": "code",
   "execution_count": 54,
   "metadata": {},
   "outputs": [
    {
     "name": "stdout",
     "output_type": "stream",
     "text": [
      "darker 0.7947138824736977\n",
      "gradient 0.7954837054144214\n",
      "reddish 0.7885552989479087\n",
      "metallic 0.796253528355145\n",
      "colorful 0.7975365665896844\n",
      "black 0.7975365665896844\n",
      "black_thin 0.8001026430587631\n",
      "dominating_color 0.7959969207082371\n",
      "color_bin_1 0.7977931742365922\n",
      "color_bin_2 0.7965101360020529\n",
      "color_bin_3 0.796253528355145\n",
      "color_bin_4 0.8039517577623814\n",
      "color_bin_5 0.7967667436489607\n",
      "color_bin_6 0.7985629971773159\n",
      "color_bin_7 0.7985629971773159\n",
      "color_bin_8 0.7995894277649473\n",
      "color_bin_9 0.7939440595329741\n",
      "color_entropy 0.7993328201180395\n",
      "rough 0.7975365665896844\n",
      "dominating_texture 0.7985629971773159\n",
      "texture_0 0.7959969207082371\n",
      "texture_1 0.7988196048242238\n",
      "texture_2 0.8013856812933026\n",
      "texture_3 0.7970233512958687\n",
      "texture_4 0.7949704901206056\n",
      "texture_5 0.7988196048242238\n",
      "texture_6 0.7965101360020529\n",
      "texture_7 0.7977931742365922\n",
      "texture_8 0.7939440595329741\n",
      "texture_9 0.7977931742365922\n",
      "rough_entropy 0.7967667436489607\n",
      "lengthy 0.7965101360020529\n",
      "number_lengthy_objects 0.7967667436489607\n",
      "lengthy_aspect_ratio 0.7936874518860662\n",
      "rel_length 0.7944572748267898\n",
      "in_shape 0.7924044136515268\n",
      "roundness 0.7970233512958687\n",
      "hu_moment_1 0.7988196048242238\n",
      "hu_moment_2 0.7965101360020529\n",
      "hu_moment_3 0.8001026430587631\n",
      "hu_moment_4 0.7988196048242238\n",
      "hu_moment_5 0.7959969207082371\n",
      "hu_moment_6 0.7990762124711316\n",
      "hu_moment_7 0.7975365665896844\n",
      "gradient 0.7942006671798819\n",
      "reddish 0.789838337182448\n",
      "metallic 0.8008724659994868\n",
      "colorful 0.7972799589427765\n",
      "black 0.7977931742365922\n",
      "black_thin 0.7913779830638953\n",
      "dominating_color 0.7959969207082371\n",
      "color_bin_1 0.7972799589427765\n",
      "color_bin_2 0.7993328201180395\n",
      "color_bin_3 0.8029253271747498\n",
      "color_bin_4 0.8001026430587631\n",
      "color_bin_5 0.7988196048242238\n",
      "color_bin_6 0.7954837054144214\n",
      "color_bin_7 0.7980497818835002\n",
      "color_bin_8 0.8001026430587631\n",
      "color_bin_9 0.7949704901206056\n",
      "color_entropy 0.7952270977675134\n",
      "rough 0.7975365665896844\n",
      "dominating_texture 0.7957403130613292\n",
      "texture_0 0.798306389530408\n",
      "texture_1 0.7972799589427765\n",
      "texture_2 0.798306389530408\n",
      "texture_3 0.7975365665896844\n",
      "texture_4 0.7929176289453426\n",
      "texture_5 0.7949704901206056\n",
      "texture_6 0.7975365665896844\n",
      "texture_7 0.8006158583525789\n",
      "texture_8 0.7967667436489607\n",
      "texture_9 0.7980497818835002\n",
      "rough_entropy 0.7936874518860662\n",
      "lengthy 0.7980497818835002\n",
      "number_lengthy_objects 0.8016422889402104\n",
      "lengthy_aspect_ratio 0.8024121118809341\n",
      "rel_length 0.8001026430587631\n",
      "in_shape 0.7949704901206056\n",
      "roundness 0.7931742365922505\n",
      "hu_moment_1 0.7998460354118553\n",
      "hu_moment_2 0.7988196048242238\n",
      "hu_moment_3 0.7998460354118553\n",
      "hu_moment_4 0.7993328201180395\n",
      "hu_moment_5 0.7970233512958687\n",
      "hu_moment_6 0.8006158583525789\n",
      "hu_moment_7 0.7957403130613292\n"
     ]
    }
   ],
   "source": [
    "all_features = [\"darker\", \"gradient\", \"reddish\", \"metallic\", \"colorful\", \"black\", \"black_thin\", \"dominating_color\", \"color_bin_1\", \"color_bin_2\", \n",
    "                      \"color_bin_3\", \"color_bin_4\", \"color_bin_5\", \"color_bin_6\", \"color_bin_7\", \"color_bin_8\", \"color_bin_9\", \"color_entropy\", \n",
    "                      \"rough\", \"dominating_texture\", \"texture_0\", \"texture_1\", \"texture_2\", \"texture_3\", \"texture_4\", \"texture_5\", \"texture_6\", \n",
    "                      \"texture_7\", \"texture_8\", \"texture_9\", \"rough_entropy\", \"lengthy\", \"number_lengthy_objects\", \"lengthy_aspect_ratio\", \"rel_length\", \n",
    "                      \"in_shape\", \"roundness\", \"hu_moment_1\", \"hu_moment_2\", \"hu_moment_3\", \"hu_moment_4\", \"hu_moment_5\", \"hu_moment_6\", \n",
    "                      \"hu_moment_7\"]\n",
    "info = []\n",
    "\n",
    "while len(all_features) > 42:\n",
    "    results = []\n",
    "    \n",
    "    for feature in all_features:\n",
    "        temp_features = all_features.copy()\n",
    "        temp_features.remove(feature)\n",
    "        rec  = run_classifier(samples, \"Rust\", temp_features)\n",
    "        print(feature, rec)\n",
    "        temp_results = {\"left out feature\": feature, \"recall\": rec}\n",
    "        results.append(temp_results)\n",
    "\n",
    "    results_df = pd.DataFrame(results)\n",
    "    results_df = results_df.sort_values(by = \"recall\", ascending = False)\n",
    "    info.append(results_df)\n",
    "    label_rank = results_df.loc[:, \"left out feature\"]\n",
    "    label_to_drop = label_rank.iloc[0]\n",
    "    all_features.remove(label_to_drop)"
   ]
  },
  {
   "cell_type": "markdown",
   "metadata": {},
   "source": [
    "**Wetspot classification**"
   ]
  },
  {
   "cell_type": "code",
<<<<<<< HEAD
   "execution_count": 64,
   "metadata": {},
   "outputs": [
    {
     "name": "stdout",
     "output_type": "stream",
     "text": [
      "Confusion Matrix:\n",
      "[[292 126]\n",
      " [ 52 394]]\n",
      "Accuracy: 0.7939814814814815\n",
      "Recall: 0.8834080717488789\n",
      "                   Feature  Importance\n",
      "12                in_shape    0.148690\n",
      "7                    rough    0.095403\n",
      "13               roundness    0.085158\n",
      "1                 gradient    0.079276\n",
      "3                 metallic    0.071913\n",
      "6               black_thin    0.070900\n",
      "2                  reddish    0.069571\n",
      "0                   darker    0.063793\n",
      "5                    black    0.063372\n",
      "4                 colorful    0.055134\n",
      "10    lengthy_aspect_ratio    0.052052\n",
      "11              rel_length    0.049539\n",
      "8                  lengthy    0.047785\n",
      "9   number_lengthy_objects    0.047414\n"
     ]
    },
    {
     "data": {
      "text/plain": [
       "0.8834080717488789"
      ]
     },
     "execution_count": 64,
=======
   "execution_count": 9,
   "metadata": {},
   "outputs": [
    {
     "data": {
      "text/plain": [
       "0.1571753986332574"
      ]
     },
     "execution_count": 9,
>>>>>>> 8b2216bc9afdb111683d7a517782c48f006d12d9
     "metadata": {},
     "output_type": "execute_result"
    }
   ],
   "source": [
    "# Rund classifier for wetspots:\n",
<<<<<<< HEAD
    "run_classifier(samples, \"Wetspot\", [\"darker\", \"gradient\", \"reddish\", \"metallic\", \"colorful\", \"black\", \"black_thin\", \n",
    "                      \"rough\", \"lengthy\", \"number_lengthy_objects\", \"lengthy_aspect_ratio\", \"rel_length\", \n",
    "                      \"in_shape\", \"roundness\"], 10)\n",
    "\n",
    "#1dt classifier, no sampling: 0.08, acc 0.94\n",
    "#5dt classifier, no sampling: 0.11\n",
    "#1dt classifier, sampling: 0.83, acc 0.80\n",
    "#5dt classifier, sampling: 0.856, acc 0.80\n",
    "\n"
=======
    "run_classifier(samples, \"Wetspot\", [\"darker\", \"metallic\", \"colorful\", \"black\", \"color_bin_2\", \"color_bin_3\", \"color_bin_4\", \n",
    "                                    \"color_bin_5\", \"color_bin_8\", \"rough\", \"texture_2\", \"texture_3\", \"texture_4\", \n",
    "                                    \"texture_8\", \"number_lengthy_objects\", \"lengthy_aspect_ratio\", \"rel_length\", \"in_shape\", \n",
    "                                    \"hu_moment_4\", \"hu_moment_5\"])\n"
   ]
  },
  {
   "cell_type": "markdown",
   "metadata": {},
   "source": [
    "**Exposed Rebars**"
   ]
  },
  {
   "cell_type": "code",
   "execution_count": 10,
   "metadata": {},
   "outputs": [
    {
     "data": {
      "text/plain": [
       "0.030710172744721688"
      ]
     },
     "execution_count": 10,
     "metadata": {},
     "output_type": "execute_result"
    }
   ],
   "source": [
    "# Rund classifier for exposed rebars:\n",
    "run_classifier(samples, \"ExposedRebars\", ['darker',\n",
    " 'colorful',\n",
    " 'dominating_color',\n",
    " 'color_bin_1',\n",
    " 'color_bin_2',\n",
    " 'color_bin_9',\n",
    " 'color_entropy',\n",
    " 'texture_1',\n",
    " 'texture_4',\n",
    " 'texture_5',\n",
    " 'texture_6',\n",
    " 'texture_7',\n",
    " 'texture_9',\n",
    " 'lengthy',\n",
    " 'number_lengthy_objects',\n",
    " 'lengthy_aspect_ratio',\n",
    " 'in_shape',\n",
    " 'roundness',\n",
    " 'hu_moment_1',\n",
    " 'hu_moment_4'])"
>>>>>>> 8b2216bc9afdb111683d7a517782c48f006d12d9
   ]
  },
  {
   "cell_type": "markdown",
   "metadata": {},
   "source": [
    "**Graffiti classification**"
   ]
  },
  {
   "cell_type": "code",
<<<<<<< HEAD
   "execution_count": 44,
   "metadata": {},
   "outputs": [
    {
     "name": "stdout",
     "output_type": "stream",
     "text": [
      "Confusion Matrix:\n",
      "[[441 106]\n",
      " [ 73 508]]\n",
      "Accuracy: 0.8413120567375887\n",
      "Recall: 0.8743545611015491\n",
      "          Feature  Importance\n",
      "6     color_bin_1    0.117350\n",
      "2         reddish    0.092480\n",
      "5           black    0.067478\n",
      "21      texture_7    0.059268\n",
      "11    color_bin_6    0.056251\n",
      "10    color_bin_5    0.052035\n",
      "3        metallic    0.044124\n",
      "9     color_bin_4    0.040896\n",
      "0          darker    0.040359\n",
      "19      texture_5    0.037842\n",
      "8     color_bin_3    0.036076\n",
      "20      texture_6    0.035221\n",
      "4        colorful    0.034093\n",
      "13  color_entropy    0.030686\n",
      "15      texture_1    0.030027\n",
      "1        gradient    0.029939\n",
      "7     color_bin_2    0.029763\n",
      "18      texture_4    0.027536\n",
      "14      texture_0    0.025320\n",
      "12    color_bin_9    0.024701\n",
      "16      texture_2    0.023763\n",
      "22      texture_9    0.022884\n",
      "17      texture_3    0.022500\n",
      "23  rough_entropy    0.019409\n"
     ]
    },
    {
     "data": {
      "text/plain": [
       "0.8743545611015491"
      ]
     },
     "execution_count": 44,
=======
   "execution_count": 20,
   "metadata": {},
   "outputs": [
    {
     "data": {
      "text/plain": [
       "0.25512104283054005"
      ]
     },
     "execution_count": 20,
>>>>>>> 8b2216bc9afdb111683d7a517782c48f006d12d9
     "metadata": {},
     "output_type": "execute_result"
    }
   ],
   "source": [
    "# Run classifier for Graffiti:\n",
    "run_classifier(samples, \"Graffiti\", [\"reddish\", \"metallic\", \"colorful\", \"black_thin\", \"dominating_color\", \"color_bin_2\",\n",
    "                      \"color_bin_4\", \"color_bin_5\", \"color_bin_6\", \"color_bin_7\", \"color_bin_9\",\n",
    "                      \"dominating_texture\", \"texture_1\", \"texture_2\",\n",
    "                      \"texture_7\", \"texture_9\", \"rel_length\",\n",
    "                      \"in_shape\", \"roundness\", \"hu_moment_5\", \"hu_moment_6\"])"
   ]
  },
  {
   "cell_type": "markdown",
   "metadata": {},
   "source": [
    "**Drainage classification**"
   ]
  },
  {
   "cell_type": "code",
<<<<<<< HEAD
   "execution_count": 46,
   "metadata": {},
   "outputs": [
    {
     "name": "stdout",
     "output_type": "stream",
     "text": [
      "Confusion Matrix:\n",
      "[[326  66]\n",
      " [ 84 317]]\n",
      "Accuracy: 0.8108448928121059\n",
      "Recall: 0.7905236907730673\n",
      "                   Feature  Importance\n",
      "21               texture_5    0.071886\n",
      "23               texture_7    0.056675\n",
      "8              color_bin_1    0.049537\n",
      "10             color_bin_3    0.048266\n",
      "25               texture_9    0.044047\n",
      "16               texture_0    0.043339\n",
      "24               texture_8    0.036576\n",
      "1                 gradient    0.033581\n",
      "20               texture_4    0.033445\n",
      "9              color_bin_2    0.032749\n",
      "2                  reddish    0.031045\n",
      "18               texture_2    0.030837\n",
      "5                    black    0.030399\n",
      "17               texture_1    0.030221\n",
      "22               texture_6    0.029750\n",
      "6               black_thin    0.029352\n",
      "31                in_shape    0.028934\n",
      "19               texture_3    0.028564\n",
      "0                   darker    0.028528\n",
      "11             color_bin_6    0.027556\n",
      "30              rel_length    0.027156\n",
      "13           color_entropy    0.026046\n",
      "26           rough_entropy    0.025475\n",
      "14                   rough    0.024172\n",
      "7         dominating_color    0.024166\n",
      "4                 colorful    0.021587\n",
      "32               roundness    0.020159\n",
      "12             color_bin_7    0.017964\n",
      "15      dominating_texture    0.017898\n",
      "3                 metallic    0.017206\n",
      "27                 lengthy    0.015167\n",
      "29    lengthy_aspect_ratio    0.010587\n",
      "28  number_lengthy_objects    0.007129\n"
     ]
    },
    {
     "data": {
      "text/plain": [
       "0.7905236907730673"
      ]
     },
     "execution_count": 46,
=======
   "execution_count": 23,
   "metadata": {},
   "outputs": [
    {
     "data": {
      "text/plain": [
       "0.05804749340369393"
      ]
     },
     "execution_count": 23,
>>>>>>> 8b2216bc9afdb111683d7a517782c48f006d12d9
     "metadata": {},
     "output_type": "execute_result"
    }
   ],
   "source": [
    "# Run classifier for Graffiti:\n",
    "run_classifier(samples, \"Drainage\", [\"reddish\", \"black\", \"color_bin_5\", \"color_bin_7\", \"color_bin_9\", \"color_entropy\", \n",
    "                      \"rough\", \"texture_0\", \"texture_2\", \"texture_3\", \"texture_6\", \n",
    "                      \"texture_8\", \"rough_entropy\", \"rel_length\", \n",
    "                      \"in_shape\", \"roundness\", \"hu_moment_2\", \"hu_moment_4\", \"hu_moment_5\", \"hu_moment_6\"])"
   ]
  },
  {
   "cell_type": "markdown",
   "metadata": {},
   "source": [
    "**Crack**"
   ]
  },
  {
   "cell_type": "code",
   "execution_count": 22,
   "metadata": {},
   "outputs": [
    {
     "data": {
      "text/plain": [
       "0.5149171270718232"
      ]
     },
     "execution_count": 22,
     "metadata": {},
     "output_type": "execute_result"
    }
   ],
   "source": [
    "# Run classifier for Crack:\n",
    "run_classifier(samples, \"Crack\", ['darker',\n",
    " 'gradient',\n",
    " 'reddish',\n",
    " 'colorful',\n",
    " 'black',\n",
    " 'dominating_color',\n",
    " 'color_bin_2',\n",
    " 'color_bin_3',\n",
    " 'rough',\n",
    " 'texture_0',\n",
    " 'texture_3',\n",
    " 'texture_5',\n",
    " 'texture_6',\n",
    " 'texture_8',\n",
    " 'texture_9',\n",
    " 'lengthy',\n",
    " 'number_lengthy_objects',\n",
    " 'lengthy_aspect_ratio',\n",
    " 'hu_moment_1',\n",
    " 'hu_moment_2',\n",
    " 'hu_moment_3'])"
   ]
  },
  {
   "cell_type": "code",
   "execution_count": null,
   "metadata": {},
   "outputs": [],
   "source": [
    "# to do:\n",
    "# implement blue, yellow, green and shiny filter -> Samuel\n",
    "# implement colourfullness measure -> Samuel\n",
    "# implement circle detector -> Samuel\n",
    "# in rough filter take lbp values in polygon as feature -> Samuel\n",
    "# rough filter take entropy as feature -> Samuel\n",
    "# darkness gradient for wetspots -> Felix\n",
    "# test hough lines detector for lengthy feature -> Felix\n",
    "# Straightness feature -> Felix\n"
   ]
  },
  {
   "cell_type": "markdown",
   "metadata": {},
   "source": [
    "# function dump / not used"
   ]
  },
  {
   "cell_type": "code",
   "execution_count": null,
   "metadata": {},
   "outputs": [],
   "source": [
    "#function to calculate the overlapping percentage of a defect polygon with feature polygons\n",
    "def calculate_overlapping_percentage(defect_polygon, feature_polygons):\n",
    "    overlapping_quotient = []\n",
    "    defect_polygon = Polygon(defect_polygon)\n",
    "    overlapping_area = 0\n",
    "    for feature_polygon in feature_polygons:\n",
    "        if len(feature_polygon) > 3:\n",
    "            feature_polygon = Polygon(feature_polygon)\n",
    "            try:\n",
    "                overlapping_area += defect_polygon.intersection(feature_polygon).area\n",
    "            except:\n",
    "                pass\n",
    "    quotient = overlapping_area / defect_polygon.area\n",
    "    return round(quotient*100, 4)"
   ]
  },
  {
   "cell_type": "code",
   "execution_count": null,
   "metadata": {},
   "outputs": [],
   "source": [
    "#find darker areas in an image\n",
    "def find_darker_areas(image, threshold=100):\n",
    "    # Convert image to grayscale:\n",
    "    grey_image = cv2.cvtColor(image, cv2.COLOR_BGR2GRAY)\n",
    "    # Find dark areas:\n",
    "    dark_areas = grey_image < threshold\n",
    "    dark_areas = dark_areas.astype(np.uint8)\n",
    "    blurred = cv2.blur(dark_areas, (15, 15), 0)\n",
    "    #plt.imshow(blurred)\n",
    "    contours, _ = cv2.findContours(blurred, cv2.RETR_EXTERNAL, cv2.CHAIN_APPROX_SIMPLE)\n",
    "    polygons = []\n",
    "    for contour in contours:\n",
    "        points = []\n",
    "        for point in contour:\n",
    "            points.append(*point.tolist())\n",
    "        polygons.append(points)\n",
    "\n",
    "    return blurred, polygons"
   ]
  },
  {
   "cell_type": "code",
   "execution_count": null,
   "metadata": {},
   "outputs": [],
   "source": [
    "# obsolete function to find reddish areas in an image\n",
    "def find_reddish_areas(image):\n",
    "\n",
    "    def color_detector(image, lower_bounds: list, upper_bounds: list) -> list:\n",
    "        hsv_image = cv2.cvtColor(image, cv2.COLOR_BGR2HSV)\n",
    "        mask = np.zeros(hsv_image.shape[:2], dtype=np.uint8)\n",
    "        for lower_bound, upper_bound in zip(lower_bounds, upper_bounds):\n",
    "            lower_bound = np.array(lower_bound)\n",
    "            upper_bound = np.array(upper_bound)\n",
    "            mask += cv2.inRange(hsv_image, lower_bound, upper_bound)\n",
    "        return mask\n",
    "\n",
    "    rusty_lower_bounds = [[0, 40, 50], [170, 40, 50]]\n",
    "    rusty_upper_bounds = [[10, 255, 200], [180, 255, 200]]\n",
    "    blurred = cv2.blur(image, (30, 30), 0)\n",
    "    reddish_areas = color_detector(blurred, rusty_lower_bounds, rusty_upper_bounds)\n",
    "    plt.imshow(reddish_areas)\n",
    "    contours, _ = cv2.findContours(reddish_areas, cv2.RETR_EXTERNAL, cv2.CHAIN_APPROX_SIMPLE)\n",
    "    polygons = []\n",
    "    for contour in contours:\n",
    "        points = []\n",
    "        for point in contour:\n",
    "            points.append(*point.tolist())\n",
    "        polygons.append(points)\n",
    "\n",
    "    return image, polygons "
   ]
  },
  {
   "cell_type": "code",
   "execution_count": null,
   "metadata": {},
   "outputs": [
    {
     "name": "stdout",
     "output_type": "stream",
     "text": [
      "[[  0   0   0 ... 255 255 255]\n",
      " [  0   0   0 ... 255 255 255]\n",
      " [  0   0   0 ... 255 255 255]\n",
      " ...\n",
      " [255 255 255 ... 255 255 255]\n",
      " [255 255 255 ... 255 255 255]\n",
      " [255 255 255 ... 255 255 255]]\n",
      "286\n"
     ]
    },
    {
     "data": {
      "image/png": "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",
      "text/plain": [
       "<Figure size 640x480 with 1 Axes>"
      ]
     },
     "metadata": {},
     "output_type": "display_data"
    }
   ],
   "source": [
    "def find_rough_areas(image, threshold=8):\n",
    "\n",
    "    #read in image as greyscale\n",
    "    image = cv2.cvtColor(image, cv2.COLOR_BGR2GRAY)\n",
    "\n",
    "    #apply local binary pattern\n",
    "    lbp = local_binary_pattern(image, P=8, R=2, method='uniform')\n",
    "\n",
    "    lbp_uint8 = np.uint8((lbp / lbp.max())*255)\n",
    "    \n",
    "    blurred = cv2.blur(lbp_uint8, (5, 5), 0)\n",
    "    mean = np.mean(blurred)\n",
    "    std = np.std(blurred)\n",
    "    median = np.median(blurred)\n",
    "    #apply thresholding\n",
    "    _, binary_image = cv2.threshold(blurred, mean - std, 255, cv2.THRESH_BINARY) \n",
    "\n",
    "    binary_blurred = cv2.blur(binary_image, (50, 50), 0)\n",
    "    mean = np.mean(binary_blurred)\n",
    "    std = np.std(binary_blurred)\n",
    "    #apply thresholding\n",
    "    _, binary_image = cv2.threshold(binary_blurred, mean - 1.5 * std, 255, cv2.THRESH_BINARY) # normlaize and convert to uint8, then blur\n",
    "    plt.imshow(binary_image)\n",
    "    print(binary_image)\n",
    "    np.histogram(binary_image, bins=10, range=None, density=None, weights=None)\n",
    "    \n",
    "    #plt.imshow(binary_image)\n",
    "    \n",
    "    # Uncomment and adjust the contour finding and polygon processing as needed\n",
    "    \n",
    "    contours_outer, _ = cv2.findContours(binary_image, cv2.RETR_EXTERNAL, cv2.CHAIN_APPROX_SIMPLE)\n",
    "    #contours_tree, _ = cv2.findContours(binary_image, cv2.RETR_TREE, cv2.CHAIN_APPROX_SIMPLE)\n",
    "    contours, _ = cv2.findContours(binary_image, cv2.RETR_LIST, cv2.CHAIN_APPROX_SIMPLE)\n",
    "    #contours_ccomp, _ = cv2.findContours(binary_image, cv2.RETR_CCOMP, cv2.CHAIN_APPROX_SIMPLE)\n",
    "\n",
    "    polygons = []\n",
    "    for contour in contours[0:-1]:\n",
    "        points = []\n",
    "        for point in contour:\n",
    "            points.append(*point.tolist())\n",
    "        polygons.append(points)\n",
    "\n",
    "    return lbp, polygons\n",
    "\n",
    "image_path = f\"data/dacl10k_v2_devphase/images/train/dacl10k_v2_train_0001.jpg\"\n",
    "image = cv2.imread(image_path, cv2.IMREAD_COLOR)\n",
    "dark_areas, dark_polygons = find_rough_areas(image)\n",
    "#plot_picture_with_polygons(image, dark_polygons)\n",
    "print(len(dark_polygons))"
   ]
  }
 ],
 "metadata": {
  "kernelspec": {
   "display_name": "Python 3",
   "language": "python",
   "name": "python3"
  },
  "language_info": {
   "codemirror_mode": {
    "name": "ipython",
    "version": 3
   },
   "file_extension": ".py",
   "mimetype": "text/x-python",
   "name": "python",
   "nbconvert_exporter": "python",
   "pygments_lexer": "ipython3",
   "version": "3.11.3"
  }
 },
 "nbformat": 4,
 "nbformat_minor": 2
}
